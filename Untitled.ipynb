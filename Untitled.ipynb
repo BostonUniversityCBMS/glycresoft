{
 "cells": [
  {
   "cell_type": "code",
   "execution_count": null,
   "metadata": {},
   "outputs": [],
   "source": [
    "%%time\n",
    "import os\n",
    "os.environ[\"MKL_NUM_THREADS\"] = \"1\" \n",
    "os.environ[\"NUMEXPR_NUM_THREADS\"] = \"1\" \n",
    "os.environ[\"OMP_NUM_THREADS\"] = \"1\"\n",
    "import numpy as np\n",
    "from glycopeptidepy import PeptideSequence\n",
    "from glycopeptidepy.structure.fragment import IonSeries\n",
    "from glypy.structure.glycan_composition import FrozenMonosaccharideResidue\n",
    "from ms_deisotope.output import ProcessedMzMLDeserializer\n",
    "\n",
    "from collections import defaultdict\n",
    "from glycan_profiling.test.fixtures import get_test_data\n",
    "\n",
    "from glycan_profiling.structure import FragmentCachingGlycopeptide\n",
    "from glycan_profiling.tandem.glycopeptide.scoring import (\n",
    "    base, intensity_scorer, simple_score, binomial_score, coverage_weighted_binomial)\n",
    "\n",
    "%matplotlib inline\n",
    "from matplotlib import pyplot as plt, rcParams\n",
    "rcParams['figure.figsize'] = 12, 5\n",
    "from IPython import display\n",
    "display.set_matplotlib_formats(\"svg\")"
   ]
  },
  {
   "cell_type": "code",
   "execution_count": null,
   "metadata": {},
   "outputs": [],
   "source": [
    "from feature_learning.scoring.scorer import PartialSplitScorerTree\n",
    "import json"
   ]
  },
  {
   "cell_type": "code",
   "execution_count": null,
   "metadata": {},
   "outputs": [],
   "source": [
    "%%time\n",
    "scorer = PartialSplitScorerTree.from_json(\n",
    "    json.load(open(r\"C:\\Users\\Asus\\Dev\\msms_feature_learning\\fit-csf-hcd.json\")))"
   ]
  },
  {
   "cell_type": "code",
   "execution_count": null,
   "metadata": {},
   "outputs": [],
   "source": [
    "scan, scan2 = list(ProcessedMzMLDeserializer(get_test_data(\"example_glycopeptide_spectra.mzML\")))"
   ]
  },
  {
   "cell_type": "code",
   "execution_count": null,
   "metadata": {},
   "outputs": [],
   "source": [
    "gp = FragmentCachingGlycopeptide('YLGN(N-Glycosylation)ATAIFFLPDEGK{Hex:5; HexNAc:4; Neu5Ac:1}')\n",
    "gp2 = FragmentCachingGlycopeptide('YLGN(#:iupac,glycosylation_type=N-Linked:?-?-Hexp-(?-?)-?-?-'\n",
    "                      'Hexp2NAc-(?-?)-a-D-Manp-(1-6)-[a-D-Neup5Ac-(?-?)-?-?-Hexp-(?-?'\n",
    "                      ')-?-?-Hexp2NAc-(?-?)-a-D-Manp-(1-3)]b-D-Manp-(1-4)-b-D-Glcp2NA'\n",
    "                      'c-(1-4)-b-D-Glcp2NAc)ATAIFFLPDEGK')"
   ]
  },
  {
   "cell_type": "code",
   "execution_count": null,
   "metadata": {},
   "outputs": [],
   "source": [
    "scorer.evaluate(scan, gp)"
   ]
  },
  {
   "cell_type": "code",
   "execution_count": null,
   "metadata": {},
   "outputs": [],
   "source": [
    "match = scorer.evaluate(scan, gp)\n",
    "match.peptide_score(), match.glycan_score()"
   ]
  },
  {
   "cell_type": "code",
   "execution_count": null,
   "metadata": {},
   "outputs": [],
   "source": [
    "from feature_learning.scoring._c.scorer import calculate_peptide_score"
   ]
  },
  {
   "cell_type": "code",
   "execution_count": null,
   "metadata": {},
   "outputs": [],
   "source": [
    "calculate_peptide_score(match)"
   ]
  },
  {
   "cell_type": "code",
   "execution_count": null,
   "metadata": {},
   "outputs": [],
   "source": [
    "import pickle\n",
    "pickle.dump(match, open(\"./test.pkl\", 'wb'), -1)"
   ]
  },
  {
   "cell_type": "code",
   "execution_count": null,
   "metadata": {},
   "outputs": [],
   "source": [
    "calculate_peptide_score(match)"
   ]
  },
  {
   "cell_type": "code",
   "execution_count": null,
   "metadata": {},
   "outputs": [],
   "source": [
    "def test(scan):\n",
    "    for i in xrange(10000):\n",
    "#         scorer.evaluate(scan, gp)\n",
    "        intensity_scorer.LogIntensityScorer.evaluate(scan, gp)\n",
    "        gp.clear_caches()\n",
    "    \n",
    "prof = %prun -r test(scan)\n"
   ]
  },
  {
   "cell_type": "code",
   "execution_count": null,
   "metadata": {},
   "outputs": [],
   "source": [
    "prof.print_callees(\"calculate_peptide_score\")"
   ]
  },
  {
   "cell_type": "code",
   "execution_count": null,
   "metadata": {},
   "outputs": [],
   "source": [
    "from feature_learning.scoring.scorer import PearsonResidualCDF"
   ]
  },
  {
   "cell_type": "code",
   "execution_count": null,
   "metadata": {},
   "outputs": [],
   "source": [
    "from feature_learning.scoring._c.scorer import calculate_peptide_score"
   ]
  },
  {
   "cell_type": "code",
   "execution_count": null,
   "metadata": {},
   "outputs": [],
   "source": [
    "calculate_peptide_score(match)"
   ]
  },
  {
   "cell_type": "code",
   "execution_count": null,
   "metadata": {},
   "outputs": [],
   "source": [
    "model = match.model_fit.reliability_model['y']"
   ]
  },
  {
   "cell_type": "code",
   "execution_count": null,
   "metadata": {},
   "outputs": [],
   "source": []
  },
  {
   "cell_type": "code",
   "execution_count": null,
   "metadata": {},
   "outputs": [],
   "source": [
    "from feature_learning import peak_relations"
   ]
  },
  {
   "cell_type": "code",
   "execution_count": null,
   "metadata": {},
   "outputs": [],
   "source": []
  },
  {
   "cell_type": "code",
   "execution_count": null,
   "metadata": {},
   "outputs": [],
   "source": []
  },
  {
   "cell_type": "code",
   "execution_count": null,
   "metadata": {},
   "outputs": [],
   "source": [
    "x = (glycan._composition_tree_root.root.children['HexNAc', 2].name)"
   ]
  },
  {
   "cell_type": "code",
   "execution_count": null,
   "metadata": {},
   "outputs": [],
   "source": [
    "%prun [str(x) for i in range(10000)]"
   ]
  },
  {
   "cell_type": "code",
   "execution_count": null,
   "metadata": {},
   "outputs": [],
   "source": [
    "glycan._composition_name_cache"
   ]
  },
  {
   "cell_type": "code",
   "execution_count": null,
   "metadata": {},
   "outputs": [],
   "source": [
    "gp.stub_fragments(extended=True)"
   ]
  },
  {
   "cell_type": "code",
   "execution_count": null,
   "metadata": {},
   "outputs": [],
   "source": [
    "match = intensity_scorer.LogIntensityScorer.evaluate(scan, gp)\n",
    "art = match.plot()\n",
    "art.add_logo_plot()\n",
    "art.ax.figure.set_figwidth(10)\n",
    "art.ax.figure.canvas.draw()\n",
    "for text in art.peak_labels:\n",
    "    text_bbox = text.get_window_extent(art.ax.figure.canvas.renderer).transformed(art.ax.transData.inverted())\n",
    "    other_bboxes = []\n",
    "    xlim = art.ax.get_xlim()\n",
    "    ylim = art.ax.get_ylim()\n",
    "    ax_bbox = (xlim[0], ylim[0], xlim[1], ylim[1])\n",
    "    index = Index(bbox=ax_bbox)\n",
    "    for other in art.peak_labels:\n",
    "        if other is text:\n",
    "            continue\n",
    "        \n",
    "        b = other.get_window_extent(art.ax.figure.canvas.renderer).transformed(art.ax.transData.inverted())\n",
    "        index.insert((other, (b.xmin, b.ymin, b.xmax, b.ymax)), (b.xmin, b.ymin, b.xmax, b.ymax))\n",
    "    if other_bboxes:\n",
    "        break"
   ]
  },
  {
   "cell_type": "code",
   "execution_count": null,
   "metadata": {},
   "outputs": [],
   "source": [
    "b = text.get_window_extent(art.ax.figure.canvas.renderer).transformed(art.ax.transData.inverted())\n",
    "over = index.intersect((b.xmin, b.ymin, b.xmax, b.ymax))"
   ]
  },
  {
   "cell_type": "code",
   "execution_count": null,
   "metadata": {},
   "outputs": [],
   "source": [
    "(b.bounds[0], b.bounds[2], b.bounds[1], b.bounds[3]), (b.xmin, b.ymin, b.xmax, b.ymax)"
   ]
  },
  {
   "cell_type": "code",
   "execution_count": null,
   "metadata": {},
   "outputs": [],
   "source": [
    "b = text_bbox\n",
    "b"
   ]
  },
  {
   "cell_type": "code",
   "execution_count": null,
   "metadata": {},
   "outputs": [],
   "source": [
    "index.intersect((b.xmin, b.ymin, b.xmax, b.ymax))"
   ]
  },
  {
   "cell_type": "code",
   "execution_count": null,
   "metadata": {},
   "outputs": [],
   "source": []
  },
  {
   "cell_type": "code",
   "execution_count": null,
   "metadata": {},
   "outputs": [],
   "source": []
  },
  {
   "cell_type": "code",
   "execution_count": null,
   "metadata": {},
   "outputs": [],
   "source": [
    "match = intensity_scorer.LogIntensityScorer.evaluate(scan, gp)\n",
    "art = match.plot()\n",
    "art.add_logo_plot()\n",
    "art.ax.figure.set_figwidth(10)\n",
    "adjustText.adjust_text(\n",
    "    art.peak_labels, autoalign=False)"
   ]
  },
  {
   "cell_type": "code",
   "execution_count": null,
   "metadata": {},
   "outputs": [],
   "source": []
  },
  {
   "cell_type": "code",
   "execution_count": null,
   "metadata": {},
   "outputs": [],
   "source": [
    "art"
   ]
  },
  {
   "cell_type": "code",
   "execution_count": null,
   "metadata": {},
   "outputs": [],
   "source": [
    "match = simple_score.SimpleCoverageScorer.evaluate(scan2, gp2)\n",
    "for fp in sorted(match.solution_map, key=lambda x: x.fragment_name):\n",
    "    print fp.fragment.name, fp.peak.charge\n",
    "    if hasattr(fp.fragment, \"base_name\"):\n",
    "        print fp.fragment.base_name()"
   ]
  },
  {
   "cell_type": "code",
   "execution_count": null,
   "metadata": {},
   "outputs": [],
   "source": [
    "from glycan_profiling.plotting import sequence_fragment_logo\n",
    "reload(sequence_fragment_logo)"
   ]
  },
  {
   "cell_type": "code",
   "execution_count": null,
   "metadata": {},
   "outputs": [],
   "source": [
    "reload(sequence_fragment_logo)\n",
    "art = sequence_fragment_logo.SequenceGlyph.from_spectrum_match(match)\n",
    "art.ax.hlines(4, 1, 20)\n",
    "art.ax.hlines(-1, 1, 20)"
   ]
  },
  {
   "cell_type": "code",
   "execution_count": null,
   "metadata": {},
   "outputs": [],
   "source": [
    "from ms_deisotope._c import similarity_methods"
   ]
  },
  {
   "cell_type": "code",
   "execution_count": null,
   "metadata": {},
   "outputs": [],
   "source": [
    "x = similarity_methods.bin_peaks(scan.deconvoluted_peak_set, scan.deconvoluted_peak_set, 2)[0]"
   ]
  },
  {
   "cell_type": "code",
   "execution_count": null,
   "metadata": {},
   "outputs": [],
   "source": [
    "%timeit similarity_methods.peak_set_similarity(scan.deconvoluted_peak_set, scan.deconvoluted_peak_set, 2)"
   ]
  },
  {
   "cell_type": "code",
   "execution_count": null,
   "metadata": {},
   "outputs": [],
   "source": []
  }
 ],
 "metadata": {
  "kernelspec": {
   "display_name": "Python 2",
   "language": "python",
   "name": "python2"
  },
  "language_info": {
   "codemirror_mode": {
    "name": "ipython",
    "version": 2
   },
   "file_extension": ".py",
   "mimetype": "text/x-python",
   "name": "python",
   "nbconvert_exporter": "python",
   "pygments_lexer": "ipython2",
   "version": "2.7.14"
  }
 },
 "nbformat": 4,
 "nbformat_minor": 2
}
